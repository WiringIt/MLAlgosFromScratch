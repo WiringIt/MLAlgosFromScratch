{
  "nbformat": 4,
  "nbformat_minor": 0,
  "metadata": {
    "colab": {
      "provenance": [],
      "authorship_tag": "ABX9TyMaQUCCDHNrt89Cpt05cX48",
      "include_colab_link": true
    },
    "kernelspec": {
      "name": "python3",
      "display_name": "Python 3"
    },
    "language_info": {
      "name": "python"
    }
  },
  "cells": [
    {
      "cell_type": "markdown",
      "metadata": {
        "id": "view-in-github",
        "colab_type": "text"
      },
      "source": [
        "<a href=\"https://colab.research.google.com/github/WiringIt/MLAlgosFromScratch/blob/main/LinearRegression.ipynb\" target=\"_parent\"><img src=\"https://colab.research.google.com/assets/colab-badge.svg\" alt=\"Open In Colab\"/></a>"
      ]
    },
    {
      "cell_type": "markdown",
      "source": [
        "Step 1. Import numpy library and name it as np\n"
      ],
      "metadata": {
        "id": "vHUXP7P_FIZY"
      }
    },
    {
      "cell_type": "code",
      "source": [
        "import numpy as np"
      ],
      "metadata": {
        "id": "jb-Q7F6YFQqp"
      },
      "execution_count": null,
      "outputs": []
    },
    {
      "cell_type": "markdown",
      "source": [
        "**Linear Regression**"
      ],
      "metadata": {
        "id": "-2WUbzJEFVUf"
      }
    },
    {
      "cell_type": "markdown",
      "source": [
        "y=wx+b where w is the weight and b is the bias\n",
        "\n",
        "1.Why do we need self? It acts like a constructor, whenerver we're creating an instance of the Linear_Regression class, that 'self' param is called.\n",
        "\n",
        "2.Learning_rate and no_of_iterations are the 'hyperparameters'(can be changed manually) to our model and weight and bias are the 'parameters' to our model\n"
      ],
      "metadata": {
        "id": "6LCkKyqCFr0F"
      }
    },
    {
      "cell_type": "code",
      "source": [
        "class Linear_Regression():\n",
        "  #initialisation of learningrate and no.ofIterations\n",
        "  def __init__(self,learning_rate,no_of_iterations):#this funciton is gonna be used implicitly\n",
        "    self.learning_rate=learning_rate\n",
        "    self.no_of_iterations=no_of_iterations\n",
        "\n",
        "  def fit(self,X,Y):#x is years of exp and y is salary\n",
        "     #here we have only one feature(n)\n",
        "     #no of data points is m\n",
        "     self.m,self.n=X.shape #no of rows and cols ie, no of data points and no of features\n",
        "     self.w=np.zeros(self.n)\n",
        "     self.b=0\n",
        "     self.X=X\n",
        "     self.Y=Y\n",
        "     for i in range(self.no_of_iterations):\n",
        "      self.update_weights()\n",
        "\n",
        "  def update_weights(self):#update weights based on gradient descent\n",
        "      Y_prediction=self.predict(self.X)\n",
        "      #calculate the gradients\n",
        "      dw=-(2*(self.X.T).dot(self.Y-Y_prediction))/self.m # T implies taking a transpose\n",
        "      db=-2*np.sum(self.Y-Y_prediction)/self.m\n",
        "      #updating the weight\n",
        "      self.w=self.w-self.learning_rate*dw\n",
        "      self.b=self.b-self.learning_rate*db\n",
        "\n",
        "  def predict(self,X):\n",
        "    return X.dot(self.w)+self.b"
      ],
      "metadata": {
        "id": "KpxIkN5oFaQv"
      },
      "execution_count": null,
      "outputs": []
    },
    {
      "cell_type": "code",
      "source": [
        "#import dependencies\n",
        "import pandas as pd\n",
        "from sklearn.model_selection import train_test_split\n",
        "import matplotlib.pyplot as plt"
      ],
      "metadata": {
        "id": "L7NO4Tte1bgp"
      },
      "execution_count": null,
      "outputs": []
    },
    {
      "cell_type": "markdown",
      "source": [
        "Pre Processing\n"
      ],
      "metadata": {
        "id": "6GnX-C9q1rxt"
      }
    },
    {
      "cell_type": "code",
      "source": [
        "salary_data=pd.read_csv('/content/salary_data.csv')\n",
        "salary_data.shape"
      ],
      "metadata": {
        "colab": {
          "base_uri": "https://localhost:8080/"
        },
        "id": "pJsJ2V4q1urN",
        "outputId": "d9d63fc0-da79-425d-95d0-904e3d75c554"
      },
      "execution_count": null,
      "outputs": [
        {
          "output_type": "execute_result",
          "data": {
            "text/plain": [
              "(30, 2)"
            ]
          },
          "metadata": {},
          "execution_count": 39
        }
      ]
    },
    {
      "cell_type": "code",
      "source": [
        "salary_data.isnull().sum()#counts the number of missing values in each column"
      ],
      "metadata": {
        "colab": {
          "base_uri": "https://localhost:8080/",
          "height": 147
        },
        "id": "Drh-w_o92CtB",
        "outputId": "fce10351-d491-4c6f-a672-f67df83191cc"
      },
      "execution_count": null,
      "outputs": [
        {
          "output_type": "execute_result",
          "data": {
            "text/plain": [
              "YearsExperience    0\n",
              "Salary             0\n",
              "dtype: int64"
            ],
            "text/html": [
              "<div>\n",
              "<style scoped>\n",
              "    .dataframe tbody tr th:only-of-type {\n",
              "        vertical-align: middle;\n",
              "    }\n",
              "\n",
              "    .dataframe tbody tr th {\n",
              "        vertical-align: top;\n",
              "    }\n",
              "\n",
              "    .dataframe thead th {\n",
              "        text-align: right;\n",
              "    }\n",
              "</style>\n",
              "<table border=\"1\" class=\"dataframe\">\n",
              "  <thead>\n",
              "    <tr style=\"text-align: right;\">\n",
              "      <th></th>\n",
              "      <th>0</th>\n",
              "    </tr>\n",
              "  </thead>\n",
              "  <tbody>\n",
              "    <tr>\n",
              "      <th>YearsExperience</th>\n",
              "      <td>0</td>\n",
              "    </tr>\n",
              "    <tr>\n",
              "      <th>Salary</th>\n",
              "      <td>0</td>\n",
              "    </tr>\n",
              "  </tbody>\n",
              "</table>\n",
              "</div><br><label><b>dtype:</b> int64</label>"
            ]
          },
          "metadata": {},
          "execution_count": 40
        }
      ]
    },
    {
      "cell_type": "markdown",
      "source": [
        "Separate the feature and target"
      ],
      "metadata": {
        "id": "JXMiamCT2UBh"
      }
    },
    {
      "cell_type": "code",
      "source": [
        "X=salary_data.iloc[:,:-1].values\n",
        "Y=salary_data.iloc[:,1].values\n",
        "print(X)\n",
        "print(Y)"
      ],
      "metadata": {
        "colab": {
          "base_uri": "https://localhost:8080/"
        },
        "collapsed": true,
        "id": "-olWQVA_2XfJ",
        "outputId": "7fa4bcda-826f-42ab-d9ce-3829fe0c20a1"
      },
      "execution_count": null,
      "outputs": [
        {
          "output_type": "stream",
          "name": "stdout",
          "text": [
            "[[ 1.1]\n",
            " [ 1.3]\n",
            " [ 1.5]\n",
            " [ 2. ]\n",
            " [ 2.2]\n",
            " [ 2.9]\n",
            " [ 3. ]\n",
            " [ 3.2]\n",
            " [ 3.2]\n",
            " [ 3.7]\n",
            " [ 3.9]\n",
            " [ 4. ]\n",
            " [ 4. ]\n",
            " [ 4.1]\n",
            " [ 4.5]\n",
            " [ 4.9]\n",
            " [ 5.1]\n",
            " [ 5.3]\n",
            " [ 5.9]\n",
            " [ 6. ]\n",
            " [ 6.8]\n",
            " [ 7.1]\n",
            " [ 7.9]\n",
            " [ 8.2]\n",
            " [ 8.7]\n",
            " [ 9. ]\n",
            " [ 9.5]\n",
            " [ 9.6]\n",
            " [10.3]\n",
            " [10.5]]\n",
            "[ 39343  46205  37731  43525  39891  56642  60150  54445  64445  57189\n",
            "  63218  55794  56957  57081  61111  67938  66029  83088  81363  93940\n",
            "  91738  98273 101302 113812 109431 105582 116969 112635 122391 121872]\n"
          ]
        }
      ]
    },
    {
      "cell_type": "code",
      "source": [
        "X_train,X_test,Y_train,Y_test=train_test_split(X,Y,test_size=0.33,random_state=2)"
      ],
      "metadata": {
        "id": "YLFZ-Uam3t77"
      },
      "execution_count": null,
      "outputs": []
    },
    {
      "cell_type": "markdown",
      "source": [
        "Training the linear regression model"
      ],
      "metadata": {
        "id": "GA_kL4k84KsG"
      }
    },
    {
      "cell_type": "code",
      "source": [
        "model=Linear_Regression(learning_rate=0.02,no_of_iterations=1000)"
      ],
      "metadata": {
        "id": "S8WZxqpt4Ovd"
      },
      "execution_count": null,
      "outputs": []
    },
    {
      "cell_type": "code",
      "source": [
        "model.fit(X_train,Y_train)"
      ],
      "metadata": {
        "id": "A8V8bTFT52Ve"
      },
      "execution_count": null,
      "outputs": []
    },
    {
      "cell_type": "code",
      "source": [
        "#printing the model params\n",
        "print('weight: ',model.w[0])\n",
        "print('bias: ',model.b)"
      ],
      "metadata": {
        "colab": {
          "base_uri": "https://localhost:8080/"
        },
        "id": "LiYMYNL95_K4",
        "outputId": "a234c8aa-d7b1-4fdc-f045-0a742e89c71b"
      },
      "execution_count": null,
      "outputs": [
        {
          "output_type": "stream",
          "name": "stdout",
          "text": [
            "weight:  9514.400999035135\n",
            "bias:  23697.406507136307\n"
          ]
        }
      ]
    },
    {
      "cell_type": "markdown",
      "source": [
        "Prediction using test data"
      ],
      "metadata": {
        "id": "53HeNq426w_q"
      }
    },
    {
      "cell_type": "code",
      "source": [
        "test_data_predictions=model.predict(X_test)\n",
        "print(test_data_predictions)"
      ],
      "metadata": {
        "colab": {
          "base_uri": "https://localhost:8080/"
        },
        "id": "nYrwV2A160Mp",
        "outputId": "d95a5261-4fe6-4e4d-d5d7-e20e7471a3f1"
      },
      "execution_count": null,
      "outputs": [
        {
          "output_type": "stream",
          "name": "stdout",
          "text": [
            "[ 36066.12780588  34163.24760607  66512.21100279  58900.69020357\n",
            "  91249.65360029  80783.81250135 101715.49469922  52240.60950424\n",
            "  42726.20850521  88395.33330058]\n"
          ]
        }
      ]
    },
    {
      "cell_type": "markdown",
      "source": [
        "Visualising prediction vs actual values"
      ],
      "metadata": {
        "id": "IhzCluN-7DnK"
      }
    },
    {
      "cell_type": "code",
      "source": [
        "plt.scatter(X_test,Y_test,color='red')\n",
        "plt.plot(X_test,test_data_predictions,color='blue')\n",
        "plt.xlabel('Years of Experience')\n",
        "plt.ylabel('Salary')\n",
        "plt.title('Salary vs Experience')\n",
        "plt.show()"
      ],
      "metadata": {
        "colab": {
          "base_uri": "https://localhost:8080/",
          "height": 472
        },
        "id": "hYD4CDrT7HBZ",
        "outputId": "7b7cef34-f184-486e-e26e-86adb6e42924"
      },
      "execution_count": null,
      "outputs": [
        {
          "output_type": "display_data",
          "data": {
            "text/plain": [
              "<Figure size 640x480 with 1 Axes>"
            ],
            "image/png": "[encoded data removed]"
          },
          "metadata": {}
        }
      ]
    }
  ]
}